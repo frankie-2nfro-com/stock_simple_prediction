{
 "cells": [
  {
   "cell_type": "code",
   "execution_count": 230,
   "metadata": {},
   "outputs": [],
   "source": [
    "import numpy as np\n",
    "import yfinance as yf"
   ]
  },
  {
   "cell_type": "code",
   "execution_count": null,
   "metadata": {},
   "outputs": [],
   "source": []
  },
  {
   "cell_type": "markdown",
   "metadata": {},
   "source": [
    "<h2>Getting stock data</h2>"
   ]
  },
  {
   "cell_type": "code",
   "execution_count": 231,
   "metadata": {},
   "outputs": [],
   "source": [
    "def make_stock_df(symbol):\n",
    "    tickerData = yf.Ticker(symbol)\n",
    "    #get the historical prices for this ticker\n",
    "    tickerDf = tickerData.history(period='1d', start='2010-1-1')\n",
    "    dow = tickerDf.index.day_of_week\n",
    "    data = tickerDf[[\"Close\", \"Volume\"]]\n",
    "    data.insert(1, 'Date_Week', dow)\n",
    "    return data"
   ]
  },
  {
   "cell_type": "code",
   "execution_count": 232,
   "metadata": {},
   "outputs": [],
   "source": [
    "def get_yahoo_stock_data(symbol, columns=None, dfrom='2020-1-1'):\n",
    "    tickerData = yf.Ticker(symbol)\n",
    "    tickerDf = tickerData.history(period='1d', start='2010-1-1')\n",
    "    tickerDf[\"Date_Week\"] = tickerDf.index.day_of_week\n",
    "    targetDf = tickerDf if columns is None else tickerDf[columns]\n",
    "    return targetDf"
   ]
  },
  {
   "cell_type": "code",
   "execution_count": 234,
   "metadata": {},
   "outputs": [
    {
     "data": {
      "text/html": [
       "<div>\n",
       "<style scoped>\n",
       "    .dataframe tbody tr th:only-of-type {\n",
       "        vertical-align: middle;\n",
       "    }\n",
       "\n",
       "    .dataframe tbody tr th {\n",
       "        vertical-align: top;\n",
       "    }\n",
       "\n",
       "    .dataframe thead th {\n",
       "        text-align: right;\n",
       "    }\n",
       "</style>\n",
       "<table border=\"1\" class=\"dataframe\">\n",
       "  <thead>\n",
       "    <tr style=\"text-align: right;\">\n",
       "      <th></th>\n",
       "      <th>Open</th>\n",
       "      <th>High</th>\n",
       "      <th>Low</th>\n",
       "      <th>Close</th>\n",
       "      <th>Volume</th>\n",
       "      <th>Dividends</th>\n",
       "      <th>Stock Splits</th>\n",
       "      <th>Date_Week</th>\n",
       "    </tr>\n",
       "    <tr>\n",
       "      <th>Date</th>\n",
       "      <th></th>\n",
       "      <th></th>\n",
       "      <th></th>\n",
       "      <th></th>\n",
       "      <th></th>\n",
       "      <th></th>\n",
       "      <th></th>\n",
       "      <th></th>\n",
       "    </tr>\n",
       "  </thead>\n",
       "  <tbody>\n",
       "    <tr>\n",
       "      <th>2010-01-04 00:00:00-05:00</th>\n",
       "      <td>7.5867</td>\n",
       "      <td>7.7187</td>\n",
       "      <td>7.5735</td>\n",
       "      <td>7.6461</td>\n",
       "      <td>8096400</td>\n",
       "      <td>0.0</td>\n",
       "      <td>0</td>\n",
       "      <td>0</td>\n",
       "    </tr>\n",
       "    <tr>\n",
       "      <th>2010-01-05 00:00:00-05:00</th>\n",
       "      <td>7.6593</td>\n",
       "      <td>7.6989</td>\n",
       "      <td>7.5669</td>\n",
       "      <td>7.6131</td>\n",
       "      <td>14375900</td>\n",
       "      <td>0.0</td>\n",
       "      <td>0</td>\n",
       "      <td>1</td>\n",
       "    </tr>\n",
       "    <tr>\n",
       "      <th>2010-01-06 00:00:00-05:00</th>\n",
       "      <td>7.6329</td>\n",
       "      <td>7.6659</td>\n",
       "      <td>7.5140</td>\n",
       "      <td>7.5867</td>\n",
       "      <td>13608400</td>\n",
       "      <td>0.0</td>\n",
       "      <td>0</td>\n",
       "      <td>2</td>\n",
       "    </tr>\n",
       "    <tr>\n",
       "      <th>2010-01-07 00:00:00-05:00</th>\n",
       "      <td>7.5338</td>\n",
       "      <td>7.5537</td>\n",
       "      <td>7.3094</td>\n",
       "      <td>7.3358</td>\n",
       "      <td>27346600</td>\n",
       "      <td>0.0</td>\n",
       "      <td>0</td>\n",
       "      <td>3</td>\n",
       "    </tr>\n",
       "    <tr>\n",
       "      <th>2010-01-08 00:00:00-05:00</th>\n",
       "      <td>7.3556</td>\n",
       "      <td>7.4084</td>\n",
       "      <td>7.2829</td>\n",
       "      <td>7.3292</td>\n",
       "      <td>16895300</td>\n",
       "      <td>0.0</td>\n",
       "      <td>0</td>\n",
       "      <td>4</td>\n",
       "    </tr>\n",
       "    <tr>\n",
       "      <th>...</th>\n",
       "      <td>...</td>\n",
       "      <td>...</td>\n",
       "      <td>...</td>\n",
       "      <td>...</td>\n",
       "      <td>...</td>\n",
       "      <td>...</td>\n",
       "      <td>...</td>\n",
       "      <td>...</td>\n",
       "    </tr>\n",
       "    <tr>\n",
       "      <th>2022-09-28 00:00:00-04:00</th>\n",
       "      <td>71.1100</td>\n",
       "      <td>72.2900</td>\n",
       "      <td>70.7000</td>\n",
       "      <td>72.1300</td>\n",
       "      <td>12943600</td>\n",
       "      <td>0.0</td>\n",
       "      <td>0</td>\n",
       "      <td>2</td>\n",
       "    </tr>\n",
       "    <tr>\n",
       "      <th>2022-09-29 00:00:00-04:00</th>\n",
       "      <td>70.5200</td>\n",
       "      <td>70.6800</td>\n",
       "      <td>68.4800</td>\n",
       "      <td>69.2800</td>\n",
       "      <td>16120300</td>\n",
       "      <td>0.0</td>\n",
       "      <td>0</td>\n",
       "      <td>3</td>\n",
       "    </tr>\n",
       "    <tr>\n",
       "      <th>2022-09-30 00:00:00-04:00</th>\n",
       "      <td>67.8100</td>\n",
       "      <td>69.6500</td>\n",
       "      <td>67.7400</td>\n",
       "      <td>68.5600</td>\n",
       "      <td>10463200</td>\n",
       "      <td>0.0</td>\n",
       "      <td>0</td>\n",
       "      <td>4</td>\n",
       "    </tr>\n",
       "    <tr>\n",
       "      <th>2022-10-03 00:00:00-04:00</th>\n",
       "      <td>68.0800</td>\n",
       "      <td>69.5700</td>\n",
       "      <td>67.6500</td>\n",
       "      <td>69.2500</td>\n",
       "      <td>11945100</td>\n",
       "      <td>0.0</td>\n",
       "      <td>0</td>\n",
       "      <td>0</td>\n",
       "    </tr>\n",
       "    <tr>\n",
       "      <th>2022-10-04 00:00:00-04:00</th>\n",
       "      <td>70.8000</td>\n",
       "      <td>72.9300</td>\n",
       "      <td>70.7200</td>\n",
       "      <td>72.8100</td>\n",
       "      <td>14898900</td>\n",
       "      <td>0.0</td>\n",
       "      <td>0</td>\n",
       "      <td>1</td>\n",
       "    </tr>\n",
       "  </tbody>\n",
       "</table>\n",
       "<p>3211 rows × 8 columns</p>\n",
       "</div>"
      ],
      "text/plain": [
       "                              Open     High      Low    Close    Volume  \\\n",
       "Date                                                                      \n",
       "2010-01-04 00:00:00-05:00   7.5867   7.7187   7.5735   7.6461   8096400   \n",
       "2010-01-05 00:00:00-05:00   7.6593   7.6989   7.5669   7.6131  14375900   \n",
       "2010-01-06 00:00:00-05:00   7.6329   7.6659   7.5140   7.5867  13608400   \n",
       "2010-01-07 00:00:00-05:00   7.5338   7.5537   7.3094   7.3358  27346600   \n",
       "2010-01-08 00:00:00-05:00   7.3556   7.4084   7.2829   7.3292  16895300   \n",
       "...                            ...      ...      ...      ...       ...   \n",
       "2022-09-28 00:00:00-04:00  71.1100  72.2900  70.7000  72.1300  12943600   \n",
       "2022-09-29 00:00:00-04:00  70.5200  70.6800  68.4800  69.2800  16120300   \n",
       "2022-09-30 00:00:00-04:00  67.8100  69.6500  67.7400  68.5600  10463200   \n",
       "2022-10-03 00:00:00-04:00  68.0800  69.5700  67.6500  69.2500  11945100   \n",
       "2022-10-04 00:00:00-04:00  70.8000  72.9300  70.7200  72.8100  14898900   \n",
       "\n",
       "                           Dividends  Stock Splits  Date_Week  \n",
       "Date                                                           \n",
       "2010-01-04 00:00:00-05:00        0.0             0          0  \n",
       "2010-01-05 00:00:00-05:00        0.0             0          1  \n",
       "2010-01-06 00:00:00-05:00        0.0             0          2  \n",
       "2010-01-07 00:00:00-05:00        0.0             0          3  \n",
       "2010-01-08 00:00:00-05:00        0.0             0          4  \n",
       "...                              ...           ...        ...  \n",
       "2022-09-28 00:00:00-04:00        0.0             0          2  \n",
       "2022-09-29 00:00:00-04:00        0.0             0          3  \n",
       "2022-09-30 00:00:00-04:00        0.0             0          4  \n",
       "2022-10-03 00:00:00-04:00        0.0             0          0  \n",
       "2022-10-04 00:00:00-04:00        0.0             0          1  \n",
       "\n",
       "[3211 rows x 8 columns]"
      ]
     },
     "execution_count": 234,
     "metadata": {},
     "output_type": "execute_result"
    }
   ],
   "source": [
    "# [\"Date_Week\", \"Open\", \"High\", \"Low\", \"Close\", \"Volume\"]\n",
    "TSM_df = get_yahoo_stock_data(\"TSM\", columns=None, dfrom='2010-1-1')\n",
    "TSM_df"
   ]
  },
  {
   "cell_type": "code",
   "execution_count": 229,
   "metadata": {},
   "outputs": [
    {
     "data": {
      "text/plain": [
       "<AxesSubplot:xlabel='Date'>"
      ]
     },
     "execution_count": 229,
     "metadata": {},
     "output_type": "execute_result"
    },
    {
     "data": {
      "image/png": "[encoded data removed]",
      "text/plain": [
       "<Figure size 432x288 with 1 Axes>"
      ]
     },
     "metadata": {
      "needs_background": "light"
     },
     "output_type": "display_data"
    }
   ],
   "source": [
    "TSM_df.Close.plot()"
   ]
  },
  {
   "cell_type": "code",
   "execution_count": null,
   "metadata": {},
   "outputs": [],
   "source": []
  },
  {
   "cell_type": "code",
   "execution_count": null,
   "metadata": {},
   "outputs": [],
   "source": []
  },
  {
   "cell_type": "markdown",
   "metadata": {},
   "source": [
    "<h3>Features Engineering</h3>"
   ]
  },
  {
   "cell_type": "code",
   "execution_count": null,
   "metadata": {},
   "outputs": [],
   "source": []
  }
 ],
 "metadata": {
  "kernelspec": {
   "display_name": "Python 3.8.13 ('mongchoi')",
   "language": "python",
   "name": "python3"
  },
  "language_info": {
   "codemirror_mode": {
    "name": "ipython",
    "version": 3
   },
   "file_extension": ".py",
   "mimetype": "text/x-python",
   "name": "python",
   "nbconvert_exporter": "python",
   "pygments_lexer": "ipython3",
   "version": "3.8.13"
  },
  "orig_nbformat": 4,
  "vscode": {
   "interpreter": {
    "hash": "bf3bfb95482cf18badc6045adf04e4a7ef80eaf3bf49e50ceccf5fef0be3fc07"
   }
  }
 },
 "nbformat": 4,
 "nbformat_minor": 2
}
